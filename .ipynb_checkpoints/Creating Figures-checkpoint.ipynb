{
 "cells": [
  {
   "cell_type": "markdown",
   "metadata": {},
   "source": [
    "## This notebook covers the data-containing Figures presented in the paper"
   ]
  },
  {
   "cell_type": "markdown",
   "metadata": {},
   "source": [
    "### Figure 5"
   ]
  },
  {
   "cell_type": "markdown",
   "metadata": {},
   "source": [
    "This procedure can be used to create a figure for any method, not just EOM-CCSD. Since the reference value was changed from CCSD(T) to EOM-CCSD for the other methods, an example with a different reference is given at the end. Gnuplot is used as the graphing tool, to this end, a separate folder `figs/` was created"
   ]
  },
  {
   "cell_type": "markdown",
   "metadata": {},
   "source": [
    "Begin by moving to the `data/` directory and making sure all the files that are necessary are present: `eomccsd_analysis.py`, whatever reference file you'd like `reference/ref_file.dat`, and your data file (ie. `ccsd_none/ccsd_none_ip.dat`"
   ]
  },
  {
   "cell_type": "code",
   "execution_count": null,
   "metadata": {
    "scrolled": true
   },
   "outputs": [],
   "source": [
    "cd data; ls; ls ccsd_none/ccsd_none_ip.dat"
   ]
  },
  {
   "cell_type": "markdown",
   "metadata": {},
   "source": [
    "Then simply use the `eomccsd_analysis.py` file to calculate the differences, ME, and MAE and store this to a file of choice."
   ]
  },
  {
   "cell_type": "code",
   "execution_count": null,
   "metadata": {},
   "outputs": [],
   "source": [
    "python eomccsd_analysis.py ccsd_none/ccsd_none_ip.dat reference/ccsdt.dat > ccsd_none/ccsd_none_ip_errors.dat"
   ]
  },
  {
   "cell_type": "markdown",
   "metadata": {},
   "source": [
    "To create the plot, navigate to the `figs/` folder [NOTE: If you don't have the same gnuplot configuration files, you may need to adjust gnuplot files.] and make sure the necessary files are there: `make_hist.sh`, `layout12_side.gp`, `gw100hist_hor_12.gp`."
   ]
  },
  {
   "cell_type": "code",
   "execution_count": null,
   "metadata": {},
   "outputs": [],
   "source": [
    "cd figs; ls"
   ]
  },
  {
   "cell_type": "markdown",
   "metadata": {},
   "source": [
    "Run the script, `make_hist.sh`, which will create all necessary data files to plot the scatter plot and histogram and then generate the histogram using gnuplot."
   ]
  },
  {
   "cell_type": "code",
   "execution_count": null,
   "metadata": {},
   "outputs": [],
   "source": [
    "./make_hist.sh ccsd_none"
   ]
  },
  {
   "cell_type": "markdown",
   "metadata": {},
   "source": [
    "This should result in a file `ccsd_none_sidehist.pdf` which contains the desired graph. To change the reference values, simply use a different reference data file."
   ]
  },
  {
   "cell_type": "code",
   "execution_count": null,
   "metadata": {},
   "outputs": [],
   "source": [
    "cd ..; python eomccsd_analysis.py lin_none/lin_none_ip.dat reference/eomccsd_ip.dat > lin_none/lin_none_ip_errors.dat"
   ]
  },
  {
   "cell_type": "markdown",
   "metadata": {},
   "source": [
    "And then similarly to the above, run the gnuplot script."
   ]
  },
  {
   "cell_type": "code",
   "execution_count": null,
   "metadata": {},
   "outputs": [],
   "source": [
    "cd figs; ./make_hist.sh lin_none"
   ]
  },
  {
   "cell_type": "markdown",
   "metadata": {},
   "source": [
    "### Table 1"
   ]
  },
  {
   "cell_type": "markdown",
   "metadata": {},
   "source": [
    "For this, work will be done in the parent directory, `jupyter_jctc_2018`. Check to see if all the necessary files are present: `molecule.py` and `latex_table.py`."
   ]
  },
  {
   "cell_type": "code",
   "execution_count": null,
   "metadata": {},
   "outputs": [],
   "source": [
    "ls"
   ]
  },
  {
   "cell_type": "markdown",
   "metadata": {},
   "source": [
    "First strip all of the IP values that are needed."
   ]
  },
  {
   "cell_type": "code",
   "execution_count": null,
   "metadata": {},
   "outputs": [],
   "source": [
    "cd data; sh strip_all_ip.sh ccsd_none > ccsd_none/ccsd_none_all_ips.dat"
   ]
  },
  {
   "cell_type": "markdown",
   "metadata": {},
   "source": [
    "Then get all of the EA values that are needed"
   ]
  },
  {
   "cell_type": "code",
   "execution_count": null,
   "metadata": {},
   "outputs": [],
   "source": [
    "sh strip_all_ea.sh ccsd_none > ccsd_none/ccsd_none_all_eas.dat; cd .."
   ]
  },
  {
   "cell_type": "markdown",
   "metadata": {},
   "source": [
    "Finally run the script to create the latex-stylized longtable. To make changes to formatting or other items, please see the individual files."
   ]
  },
  {
   "cell_type": "code",
   "execution_count": null,
   "metadata": {},
   "outputs": [],
   "source": [
    "python latex_table.py 3 3 > latex_table.txt"
   ]
  },
  {
   "cell_type": "markdown",
   "metadata": {},
   "source": [
    "This will give you a text file containing the Latex-stylized longtable."
   ]
  },
  {
   "cell_type": "markdown",
   "metadata": {},
   "source": [
    "### Table 2"
   ]
  },
  {
   "cell_type": "markdown",
   "metadata": {},
   "source": [
    "Table 2 simply combines the `[method]_ip_errors.dat` files and `[method]_ea_errors.dat` for each method. Make sure to make all of these files in their respective files as necessary using the `eomccsd_analysis.py` script."
   ]
  },
  {
   "cell_type": "code",
   "execution_count": null,
   "metadata": {},
   "outputs": [],
   "source": [
    "python eomccsd_analysis.py lin_none/lin_none_ip.dat reference/eomccsd_ip.dat > lin_none/lin_none_ip_errors.dat\n",
    "python eomccsd_analysis.py lin_mp/lin_mp_ip.dat reference/eomccsd_ip.dat > lin_mp/lin_mp_ip_errors.dat\n",
    "python eomccsd_analysis.py cc2_none/cc2_none_ip.dat reference/eomccsd_ip.dat > cc2_none/cc2_none_ip_errors.dat\n",
    "python eomccsd_analysis.py cc2_mp/cc2_mp_ip.dat reference/eomccsd_ip.dat > cc2_mp/cc2_mp_ip_errors.dat\n",
    "python eomccsd_analysis.py mbpt2_none/mbpt2_none_ip.dat reference/eomccsd_ip.dat > mbpt2_none/mbpt2_none_ip_errors.dat\n",
    "python eomccsd_analysis.py mbpt2_mp/mbpt2_mp_ip.dat reference/eomccsd_ip.dat > mbpt2_mp/mbpt2_mp_ip_errors.dat\n",
    "python eomccsd_analysis.py gf2_none/gf2_none_ip.dat reference/eomccsd_ip.dat > gf2_none/gf2_none_ip_errors.dat"
   ]
  },
  {
   "cell_type": "markdown",
   "metadata": {},
   "source": [
    "It may be the case that gf2 IP values are negative, so simply use the following one-liner in the `gf2_none/` directory, and then re-run the above."
   ]
  },
  {
   "cell_type": "code",
   "execution_count": null,
   "metadata": {},
   "outputs": [],
   "source": [
    "awk '{print $1, $2*-1}' gf2_none/gf2_none_ip.dat > temp && rm -f gf2_none/gf2_none_ip.dat && mv temp gf2_none/gf2_none_ip.dat"
   ]
  },
  {
   "cell_type": "markdown",
   "metadata": {},
   "source": [
    "And then repeat the same for the EA values."
   ]
  },
  {
   "cell_type": "code",
   "execution_count": null,
   "metadata": {},
   "outputs": [],
   "source": [
    "python eomccsd_analysis.py lin_none/lin_none_ea.dat reference/eomccsd_ea.dat > lin_none/lin_none_ea_errors.dat\n",
    "python eomccsd_analysis.py lin_mp/lin_mp_ea.dat reference/eomccsd_ea.dat > lin_mp/lin_mp_ea_errors.dat\n",
    "python eomccsd_analysis.py cc2_none/cc2_none_ea.dat reference/eomccsd_ea.dat > cc2_none/cc2_none_ea_errors.dat\n",
    "python eomccsd_analysis.py cc2_mp/cc2_mp_ea.dat reference/eomccsd_ea.dat > cc2_mp/cc2_mp_ea_errors.dat\n",
    "python eomccsd_analysis.py mbpt2_none/mbpt2_none_ea.dat reference/eomccsd_ea.dat > mbpt2_none/mbpt2_none_ea_errors.dat\n",
    "python eomccsd_analysis.py mbpt2_mp/mbpt2_mp_ea.dat reference/eomccsd_ea.dat > mbpt2_mp/mbpt2_mp_ea_errors.dat\n",
    "python eomccsd_analysis.py gf2_none/gf2_none_ea.dat reference/eomccsd_ea.dat > gf2_none/gf2_none_ea_errors.dat"
   ]
  },
  {
   "cell_type": "markdown",
   "metadata": {},
   "source": [
    "Here is a one-liner to grab all of the pertinent ME and MAE values for IPs and EAs"
   ]
  },
  {
   "cell_type": "code",
   "execution_count": null,
   "metadata": {},
   "outputs": [],
   "source": [
    "for d in *_*/*errors.dat; do paste <(echo $d | cut -d / -f 1) <(grep 'mean error' $d | awk '{print $5}') <(grep 'mean abs' $d | awk '{print $6}'); done | sed '$!N;s/\\n/ /' > IP-EA-data.dat"
   ]
  },
  {
   "cell_type": "markdown",
   "metadata": {},
   "source": [
    "Finally, use the `comparison_table.py` script to generate the Latex-stylized table."
   ]
  },
  {
   "cell_type": "code",
   "execution_count": null,
   "metadata": {},
   "outputs": [],
   "source": [
    "python comparison_table.py > comparison_table.txt"
   ]
  },
  {
   "cell_type": "markdown",
   "metadata": {},
   "source": [
    "This will generate most of the table. With respect to the table in the paper, the GW results were added by hand, as they were taken from other references."
   ]
  }
 ],
 "metadata": {
  "kernelspec": {
   "display_name": "Bash",
   "language": "bash",
   "name": "bash"
  },
  "language_info": {
   "codemirror_mode": "shell",
   "file_extension": ".sh",
   "mimetype": "text/x-sh",
   "name": "bash"
  }
 },
 "nbformat": 4,
 "nbformat_minor": 2
}
