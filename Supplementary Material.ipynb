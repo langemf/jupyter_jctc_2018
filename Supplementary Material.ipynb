{
 "cells": [
  {
   "cell_type": "markdown",
   "metadata": {},
   "source": [
    "## This notebook provides the workflow for generating the Supplementary Material"
   ]
  },
  {
   "cell_type": "markdown",
   "metadata": {},
   "source": [
    "### We start with the Ionization Potentials"
   ]
  },
  {
   "cell_type": "markdown",
   "metadata": {},
   "source": [
    "To begin, move to the `data` folder."
   ]
  },
  {
   "cell_type": "code",
   "execution_count": null,
   "metadata": {},
   "outputs": [],
   "source": [
    "cd data"
   ]
  },
  {
   "cell_type": "markdown",
   "metadata": {},
   "source": [
    "Make sure that the folder contains all of the data in folders, and the `strip_ip.sh`, `ip_comparison.py`, and `paper_names.txt` files exist."
   ]
  },
  {
   "cell_type": "code",
   "execution_count": null,
   "metadata": {},
   "outputs": [],
   "source": [
    "ls "
   ]
  },
  {
   "cell_type": "markdown",
   "metadata": {},
   "source": [
    "Then use the stripping script to create data files for the first ionization potential of each method. The general syntax is `sh strip_ip.sh [method folder]`"
   ]
  },
  {
   "cell_type": "code",
   "execution_count": null,
   "metadata": {},
   "outputs": [],
   "source": [
    "sh strip_ip.sh ccsd_none > ccsd_none/ccsd_none_ip.dat\n",
    "sh strip_ip.sh ccsd_mp > ccsd_mp/ccsd_mp_ip.dat\n",
    "sh strip_ip.sh lin_none > lin_none/lin_none_ip.dat\n",
    "sh strip_ip.sh lin_mp > lin_mp/lin_mp_ip.dat\n",
    "sh strip_ip.sh cc2_none > cc2_none/cc2_none_ip.dat\n",
    "sh strip_ip.sh cc2_mp > cc2_mp/cc2_mp_ip.dat\n",
    "sh strip_ip.sh mbpt2_none > mbpt2_none/mbpt2_none_ip.dat\n",
    "sh strip_ip.sh mbpt2_mp > mbpt2_mp/mbpt2_mp_ip.dat"
   ]
  },
  {
   "cell_type": "markdown",
   "metadata": {},
   "source": [
    "Then simply run the python script which creates a Pandas DataFrame and uses this to create a file containing a Latex-compatible longtable. Please see the actual script file for more information about changing formatting."
   ]
  },
  {
   "cell_type": "code",
   "execution_count": null,
   "metadata": {},
   "outputs": [],
   "source": [
    "python ip_comparison.py "
   ]
  },
  {
   "cell_type": "markdown",
   "metadata": {},
   "source": [
    "The result should now be in a file, `ip_table.txt`"
   ]
  },
  {
   "cell_type": "code",
   "execution_count": null,
   "metadata": {},
   "outputs": [],
   "source": [
    "ls"
   ]
  },
  {
   "cell_type": "markdown",
   "metadata": {},
   "source": [
    "### Now we move to the Electron Affinities"
   ]
  },
  {
   "cell_type": "markdown",
   "metadata": {},
   "source": [
    "Make sure that this folder contains `strip_ea.sh`, `ea_comparison.py`, and `paper_names.txt`."
   ]
  },
  {
   "cell_type": "code",
   "execution_count": null,
   "metadata": {},
   "outputs": [],
   "source": [
    "ls"
   ]
  },
  {
   "cell_type": "markdown",
   "metadata": {},
   "source": [
    "Now we strip the first electron affinity analogously to above."
   ]
  },
  {
   "cell_type": "code",
   "execution_count": null,
   "metadata": {},
   "outputs": [],
   "source": [
    "sh strip_ea.sh ccsd_none > ccsd_none/ccsd_none_ea.dat\n",
    "sh strip_ea.sh ccsd_mp > ccsd_mp/ccsd_mp_ea.dat\n",
    "sh strip_ea.sh lin_none > lin_none/lin_none_ea.dat\n",
    "sh strip_ea.sh lin_mp > lin_mp/lin_mp_ea.dat\n",
    "sh strip_ea.sh cc2_none > cc2_none/cc2_none_ea.dat\n",
    "sh strip_ea.sh cc2_mp > cc2_mp/cc2_mp_ea.dat\n",
    "sh strip_ea.sh mbpt2_none > mbpt2_none/mbpt2_none_ea.dat\n",
    "sh strip_ea.sh mbpt2_mp > mbpt2_mp/mbpt2_mp_ea.dat"
   ]
  },
  {
   "cell_type": "markdown",
   "metadata": {},
   "source": [
    "We then run the python script to create the DataFrame and write out a Latex-stylized text file for the longtable."
   ]
  },
  {
   "cell_type": "code",
   "execution_count": null,
   "metadata": {},
   "outputs": [],
   "source": [
    "python ea_comparison.py "
   ]
  },
  {
   "cell_type": "markdown",
   "metadata": {},
   "source": [
    "And finally we check that we have our desired file, `ea_table.txt`"
   ]
  },
  {
   "cell_type": "code",
   "execution_count": null,
   "metadata": {},
   "outputs": [],
   "source": [
    "ls"
   ]
  },
  {
   "cell_type": "markdown",
   "metadata": {},
   "source": [
    "This is all for creating the longtables!"
   ]
  }
 ],
 "metadata": {
  "kernelspec": {
   "display_name": "Bash",
   "language": "bash",
   "name": "bash"
  },
  "language_info": {
   "codemirror_mode": "shell",
   "file_extension": ".sh",
   "mimetype": "text/x-sh",
   "name": "bash"
  }
 },
 "nbformat": 4,
 "nbformat_minor": 2
}
