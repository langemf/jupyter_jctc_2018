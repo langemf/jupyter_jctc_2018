{
 "cells": [
  {
   "cell_type": "markdown",
   "metadata": {},
   "source": [
    "## This notebook demonstrates data generation"
   ]
  },
  {
   "cell_type": "markdown",
   "metadata": {},
   "source": [
    "This notebook atempts to walk through the workflow of generating the data for a given molecule and some of the scripts that were used to simplify this process. This will also include a section covering submission to a slurm queue. To start with, please see the python driver file for PySCF, `eomccsd.py`. This file has been commented in the hopes of making the purpose of the code clear, but PySCF documentation should be referenced for more information.\n",
    "Some of the approximations used in the paper may not be implemented in the main brach of PySCF, in which case, please contact the authors or implement the method yourself."
   ]
  },
  {
   "cell_type": "markdown",
   "metadata": {},
   "source": [
    "To test, let us try using the driver file for H2"
   ]
  },
  {
   "cell_type": "code",
   "execution_count": null,
   "metadata": {},
   "outputs": [],
   "source": [
    "python eomccsd.py h2 def2-tzvpp ccsd none"
   ]
  },
  {
   "cell_type": "markdown",
   "metadata": {},
   "source": [
    "This should yield an SCF energy, CCSD energy, and values for IP root 0 and many EA root #. If this works, then one can just do this for all molecules. However, for most use cases, one wants to do many molecules at once, and hopefully using some sort of slurm submission. In this folder are provided `submit_job.sh` which submits the actual slurm job and `good_slurm_template.sh` which is the slurm template that is modified for each molecule. \n",
    "\n",
    "As an example, one molecule can be submitted using the following,"
   ]
  },
  {
   "cell_type": "code",
   "execution_count": null,
   "metadata": {},
   "outputs": [],
   "source": [
    "./submit_job.sh h2 def2-tzvpp ccsd none"
   ]
  },
  {
   "cell_type": "markdown",
   "metadata": {},
   "source": [
    "However, one would like to do this for many molecules at once. The GW100 have been split up by number of basis functions `gw100_lt100.txt`, `gw100_lt200.txt`, etc. To submit a whole slew at once, use the `gw100Sub.sh` script, making sure to change the basis, method, and partioning as desired."
   ]
  },
  {
   "cell_type": "code",
   "execution_count": null,
   "metadata": {},
   "outputs": [],
   "source": [
    "./gw100Sub.sh gw100_lt100.txt"
   ]
  },
  {
   "cell_type": "markdown",
   "metadata": {},
   "source": [
    "The above will allow a user to generate the same data (provided the same parameters are used) as used in the paper. "
   ]
  }
 ],
 "metadata": {
  "kernelspec": {
   "display_name": "Bash",
   "language": "bash",
   "name": "bash"
  },
  "language_info": {
   "codemirror_mode": "shell",
   "file_extension": ".sh",
   "mimetype": "text/x-sh",
   "name": "bash"
  }
 },
 "nbformat": 4,
 "nbformat_minor": 2
}
